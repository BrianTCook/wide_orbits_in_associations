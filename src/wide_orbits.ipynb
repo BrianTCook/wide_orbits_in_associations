{
 "cells": [
  {
   "cell_type": "code",
   "execution_count": 1,
   "metadata": {},
   "outputs": [],
   "source": [
    "from __future__ import division\n",
    "import numpy as np\n",
    "import matplotlib.pyplot as plt\n",
    "\n",
    "%matplotlib inline"
   ]
  },
  {
   "cell_type": "code",
   "execution_count": 90,
   "metadata": {},
   "outputs": [
    {
     "data": {
      "text/plain": [
       "\"\\neffvals = [ EFF(r, a,gamma) for r in rvals ]\\nplt.plot(rvals, effvals, label=r'$a = %.01f \\\\, {\\rm pc}, \\\\gamma = %.01f$'%(a, gamma))\\nhistogram, bin_edges = np.histogram(rvals_sampled, bins=20)\\n\\nbin_centers = [0.5*(bin_edges[i]+bin_edges[i+1]) for i in range(len(bin_edges)-1) ]\\n\\nmaxhh = max(histogram)\\nplt.plot(bin_centers, [ h/maxhh for h in histogram ], label='sampled')\\nplt.legend(loc='best')\\n\""
      ]
     },
     "execution_count": 90,
     "metadata": {},
     "output_type": "execute_result"
    },
    {
     "data": {
      "image/png": "[encoded data removed]",
      "text/plain": [
       "<Figure size 432x288 with 1 Axes>"
      ]
     },
     "metadata": {
      "needs_background": "light"
     },
     "output_type": "display_data"
    },
    {
     "data": {
      "text/plain": [
       "<Figure size 432x288 with 0 Axes>"
      ]
     },
     "metadata": {},
     "output_type": "display_data"
    },
    {
     "data": {
      "image/png": "[encoded data removed]",
      "text/plain": [
       "<Figure size 432x288 with 1 Axes>"
      ]
     },
     "metadata": {
      "needs_background": "light"
     },
     "output_type": "display_data"
    }
   ],
   "source": [
    "rvals = np.linspace(0, 100.2, 100)\n",
    "\n",
    "def EFF(r, a, gamma):\n",
    "    \n",
    "    return (1 + (r/a)**2.)**(-gamma/2.)\n",
    "\n",
    "def get_rvals(rmax, a, gamma, N):\n",
    "    \n",
    "    rvals = []\n",
    "    \n",
    "    while len(rvals) < N:\n",
    "    \n",
    "        flag = 0\n",
    "\n",
    "        while flag == 0:\n",
    "\n",
    "            rval_proposed = rmax*np.random.rand()\n",
    "            yval_a, yval_b = EFF(rval_proposed, a, gamma), np.random.rand()\n",
    "\n",
    "            if yval_b < yval_a:\n",
    "                \n",
    "                rvals.append(rval_proposed)\n",
    "                flag = 1\n",
    "                \n",
    "    return rvals\n",
    "                \n",
    "a, gamma = 50.1, 15.2\n",
    "sigma_U, sigma_V, sigma_W = 1.89, 0.9, 0.51\n",
    "\n",
    "N = 500\n",
    "\n",
    "uvals = np.random.normal(loc=0., scale=sigma_U, size=(N,))\n",
    "vvals = np.random.normal(loc=0., scale=sigma_U, size=(N,))\n",
    "wvals = np.random.normal(loc=0., scale=sigma_U, size=(N,))\n",
    "\n",
    "plt.figure()\n",
    "plt.hist(uvals, histtype='step')\n",
    "plt.hist(vvals, histtype='step')\n",
    "plt.hist(wvals, histtype='step')\n",
    "        \n",
    "plt.figure()\n",
    "\n",
    "rvals_sampled = get_rvals(1.5*a, a, gamma, N)\n",
    "phivals_sampled = [ 2*np.pi*np.random.random() for i in range(N)]\n",
    "thetavals_sampled = [ np.arccos((2.*np.random.random()-1)) for i in range(N)]\n",
    "\n",
    "xvals = [ rvals_sampled[i] * np.cos(phivals_sampled[i]) * np.sin(thetavals_sampled[i]) for i in range(N) ]\n",
    "yvals = [ rvals_sampled[i] * np.sin(phivals_sampled[i]) * np.sin(thetavals_sampled[i]) for i in range(N) ]\n",
    "zvals = [ rvals_sampled[i] * np.cos(thetavals_sampled[i]) for i in range(N) ]\n",
    "\n",
    "plt.figure()\n",
    "plt.scatter(xvals, yvals, c='k', s=1, label=r'$a = %.01f \\, {\\rm pc}, \\gamma = %.01f$'%(a, gamma))\n",
    "plt.xlim(-1.*np.amax(rvals_sampled), np.amax(rvals_sampled))\n",
    "plt.ylim(-1.*np.amax(rvals_sampled), np.amax(rvals_sampled))\n",
    "plt.annotate(r'$r_{\\rm half} = %.02f \\, {\\rm pc}$'%(a*np.sqrt(4**(1/gamma)-1)), xy=(0.6, 0.2), xycoords='axes fraction')\n",
    "plt.gca().set_aspect('equal')\n",
    "\n",
    "plt.legend(loc='upper right')\n",
    "\n",
    "'''\n",
    "effvals = [ EFF(r, a,gamma) for r in rvals ]\n",
    "plt.plot(rvals, effvals, label=r'$a = %.01f \\, {\\rm pc}, \\gamma = %.01f$'%(a, gamma))\n",
    "histogram, bin_edges = np.histogram(rvals_sampled, bins=20)\n",
    "\n",
    "bin_centers = [0.5*(bin_edges[i]+bin_edges[i+1]) for i in range(len(bin_edges)-1) ]\n",
    "\n",
    "maxhh = max(histogram)\n",
    "plt.plot(bin_centers, [ h/maxhh for h in histogram ], label='sampled')\n",
    "plt.legend(loc='best')\n",
    "'''"
   ]
  },
  {
   "cell_type": "code",
   "execution_count": null,
   "metadata": {},
   "outputs": [],
   "source": []
  }
 ],
 "metadata": {
  "kernelspec": {
   "display_name": "Python 3",
   "language": "python",
   "name": "python3"
  },
  "language_info": {
   "codemirror_mode": {
    "name": "ipython",
    "version": 3
   },
   "file_extension": ".py",
   "mimetype": "text/x-python",
   "name": "python",
   "nbconvert_exporter": "python",
   "pygments_lexer": "ipython3",
   "version": "3.7.3"
  }
 },
 "nbformat": 4,
 "nbformat_minor": 2
}
